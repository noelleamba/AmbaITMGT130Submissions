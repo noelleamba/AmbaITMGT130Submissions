{
 "cells": [
  {
   "cell_type": "markdown",
   "id": "87d7a800",
   "metadata": {},
   "source": [
    "#### 170094\n",
    "#### Amba \n",
    "#### 4 BS COMTECH"
   ]
  },
  {
   "cell_type": "code",
   "execution_count": 33,
   "id": "40ce3b16",
   "metadata": {},
   "outputs": [
    {
     "name": "stdout",
     "output_type": "stream",
     "text": [
      "Enter first number: 4\n",
      "Enter second number: 6\n",
      "Enter third number: 8\n",
      "The average is  6.0\n"
     ]
    }
   ],
   "source": [
    "x = int(input(\"Enter first number: \"))\n",
    "y = int(input(\"Enter second number: \"))\n",
    "z = int(input(\"Enter third number: \"))\n",
    "\n",
    "print(\"The average is  \" + str(int(x+y+z)/3))"
   ]
  },
  {
   "cell_type": "code",
   "execution_count": null,
   "id": "5055886f",
   "metadata": {},
   "outputs": [],
   "source": []
  }
 ],
 "metadata": {
  "kernelspec": {
   "display_name": "Python 3",
   "language": "python",
   "name": "python3"
  },
  "language_info": {
   "codemirror_mode": {
    "name": "ipython",
    "version": 3
   },
   "file_extension": ".py",
   "mimetype": "text/x-python",
   "name": "python",
   "nbconvert_exporter": "python",
   "pygments_lexer": "ipython3",
   "version": "3.8.8"
  }
 },
 "nbformat": 4,
 "nbformat_minor": 5
}
