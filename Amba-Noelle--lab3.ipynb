{
 "cells": [
  {
   "cell_type": "markdown",
   "id": "aa6b2a1d",
   "metadata": {},
   "source": [
    "170094\n",
    "Amba\n",
    "4 BS COMTECH"
   ]
  },
  {
   "cell_type": "markdown",
   "id": "e4ee39e4",
   "metadata": {},
   "source": [
    "## Problem 1"
   ]
  },
  {
   "cell_type": "code",
   "execution_count": 10,
   "id": "32265d9d",
   "metadata": {},
   "outputs": [],
   "source": [
    "social_graph = {\n",
    "    \"@bongolpoc\":{\"first_name\":\"Joselito\",\n",
    "                  \"last_name\":\"Olpoc\",\n",
    "                  \"following\":[\n",
    "                  ]\n",
    "    },\n",
    "    \"@joaquin\":  {\"first_name\":\"Joaquin\",\n",
    "                  \"last_name\":\"Gonzales\",\n",
    "                  \"following\":[\n",
    "                      \"@chums\",\"@jobenilagan\"\n",
    "                  ]\n",
    "    },\n",
    "    \"@chums\" : {\"first_name\":\"Matthew\",\n",
    "                \"last_name\":\"Uy\",\n",
    "                \"following\":[\n",
    "                    \"@bongolpoc\",\"@miketan\",\"@rudyang\",\"@joeilagan\"\n",
    "                ]\n",
    "    },\n",
    "    \"@jobenilagan\":{\"first_name\":\"Joben\",\n",
    "                   \"last_name\":\"Ilagan\",\n",
    "                   \"following\":[\n",
    "                    \"@eeebeee\",\"@joeilagan\",\"@chums\",\"@joaquin\"\n",
    "                   ]\n",
    "    },\n",
    "    \"@joeilagan\":{\"first_name\":\"Joe\",\n",
    "                  \"last_name\":\"Ilagan\",\n",
    "                  \"following\":[\n",
    "                    \"@eeebeee\",\"@jobenilagan\",\"@chums\"\n",
    "                  ]\n",
    "    },\n",
    "    \"@eeebeee\":  {\"first_name\":\"Elizabeth\",\n",
    "                  \"last_name\":\"Ilagan\",\n",
    "                  \"following\":[\n",
    "                    \"@jobenilagan\",\"@joeilagan\"\n",
    "                  ]\n",
    "    },\n",
    "}"
   ]
  },
  {
   "cell_type": "code",
   "execution_count": 11,
   "id": "25876fe2",
   "metadata": {},
   "outputs": [],
   "source": [
    "def relationship_status(from_member, to_member):\n",
    "    followed_by = 0\n",
    "    follower = 0\n",
    "    status = \"\"\n",
    "    \n",
    "    if from_member in social_graph[to_member][\"following\"]:\n",
    "        followed_by = 1\n",
    "    \n",
    "    if to_member in social_graph[from_member][\"following\"]:\n",
    "        follower = 1\n",
    "    \n",
    "    if followed_by == 1 and follower == 1:\n",
    "        status = \"friends\"\n",
    "    elif followed_by == 0 and follower == 0:\n",
    "        status = None\n",
    "    elif followed_by == 1:\n",
    "        status = \"followed by\"\n",
    "    elif follower == 1:\n",
    "        status = \"follower\"        \n",
    "        \n",
    "    return status"
   ]
  },
  {
   "cell_type": "code",
   "execution_count": 12,
   "id": "ef28ad2d",
   "metadata": {},
   "outputs": [
    {
     "data": {
      "text/plain": [
       "'friends'"
      ]
     },
     "execution_count": 12,
     "metadata": {},
     "output_type": "execute_result"
    }
   ],
   "source": [
    "relationship_status(\"@jobenilagan\",\"@joeilagan\")"
   ]
  },
  {
   "cell_type": "markdown",
   "id": "e706735a",
   "metadata": {},
   "source": [
    "## Problem 2"
   ]
  },
  {
   "cell_type": "code",
   "execution_count": 13,
   "id": "31542172",
   "metadata": {},
   "outputs": [],
   "source": [
    "board1 = [\n",
    "['X','X','O'],\n",
    "['O','X','O'],\n",
    "['O','','X'],\n",
    "]\n",
    "\n",
    "board2 = [\n",
    "['X','X','O'],\n",
    "['O','X','O'],\n",
    "['','O','X'],\n",
    "]\n",
    "\n",
    "board3 = [\n",
    "['O','X','O'],\n",
    "['','O','X'],\n",
    "['X','X','O'],\n",
    "]\n",
    "\n",
    "board4 = [\n",
    "['X','X','X'],\n",
    "['O','X','O'],\n",
    "['O','','O'],\n",
    "]\n",
    "\n",
    "board5 = [\n",
    "['X','X','O'],\n",
    "['O','X','O'],\n",
    "['X','','O'],\n",
    "]\n",
    "\n",
    "board6 = [\n",
    "['X','X','O'],\n",
    "['O','X','O'],\n",
    "['X','',''],\n",
    "]"
   ]
  },
  {
   "cell_type": "code",
   "execution_count": 14,
   "id": "5a8c7e5a",
   "metadata": {},
   "outputs": [],
   "source": [
    "def get_winner(board):\n",
    "    winner = None\n",
    "\n",
    "    #Checking diagonals\n",
    "    if board[0][0] == board[1][1] == board[2][2] or board[0][2] == board[1][1] == board[2][0]:\n",
    "        winner = board[1][1]\n",
    "\n",
    "    #Checking columns\n",
    "    for c in range(3):\n",
    "        if board[0][c] == board[1][c] == board[2][c]:\n",
    "            winner = board[1][c]\n",
    "    \n",
    "    #Checking rows\n",
    "    for r in range(3):\n",
    "        if board[r][0] == board[r][1] == board[r][2]:\n",
    "            winner = board [r][1]\n",
    "    return winner"
   ]
  },
  {
   "cell_type": "code",
   "execution_count": 15,
   "id": "e0269860",
   "metadata": {},
   "outputs": [
    {
     "data": {
      "text/plain": [
       "'O'"
      ]
     },
     "execution_count": 15,
     "metadata": {},
     "output_type": "execute_result"
    }
   ],
   "source": [
    "get_winner(board5)"
   ]
  },
  {
   "cell_type": "markdown",
   "id": "f514ffa6",
   "metadata": {},
   "source": [
    "## Problem 3"
   ]
  },
  {
   "cell_type": "code",
   "execution_count": 16,
   "id": "0e545043",
   "metadata": {},
   "outputs": [
    {
     "name": "stdout",
     "output_type": "stream",
     "text": [
      "Enter source: upd\n",
      "Enter destination: admu\n",
      "10 minutes\n"
     ]
    }
   ],
   "source": [
    "def eta(source,destination):\n",
    "    total = 0\n",
    "    \n",
    "source = input(\"Enter source: \")\n",
    "destination = input(\"Enter destination: \")\n",
    "\n",
    "if source == 'upd' and destination == 'admu':\n",
    "    print (\"10 minutes\")\n",
    "\n",
    "elif source == 'admu' and destination == 'dlsu':\n",
    "    print (\"35 minutes\")\n",
    "\n",
    "elif source == 'dlsu' and destination == 'upd':\n",
    "    print (\"55  minutes\")\n",
    "\n",
    "elif source == 'dlsu' and destination == 'admu':\n",
    "    print (\"65 minutes\")\n",
    "\n",
    "elif source == 'admu' and destination == 'upd':\n",
    "    print (\"90  minutes\")\n",
    "\n",
    "elif source == 'upd' and destination == 'dlsu':\n",
    "    print (\"45 minutes\")"
   ]
  }
 ],
 "metadata": {
  "kernelspec": {
   "display_name": "Python 3",
   "language": "python",
   "name": "python3"
  },
  "language_info": {
   "codemirror_mode": {
    "name": "ipython",
    "version": 3
   },
   "file_extension": ".py",
   "mimetype": "text/x-python",
   "name": "python",
   "nbconvert_exporter": "python",
   "pygments_lexer": "ipython3",
   "version": "3.8.8"
  }
 },
 "nbformat": 4,
 "nbformat_minor": 5
}
