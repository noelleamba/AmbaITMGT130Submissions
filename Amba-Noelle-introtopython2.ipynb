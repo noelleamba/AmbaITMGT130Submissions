{
 "cells": [
  {
   "cell_type": "markdown",
   "id": "87d7a800",
   "metadata": {},
   "source": [
    "#### 170094\n",
    "#### Amba \n",
    "#### 4 BS COMTECH"
   ]
  },
  {
   "cell_type": "code",
   "execution_count": 25,
   "id": "036b7154",
   "metadata": {},
   "outputs": [
    {
     "name": "stdout",
     "output_type": "stream",
     "text": [
      "Enter first number: 5\n",
      "Enter second number: 6\n",
      "Enter third number: 7\n",
      "Average is: 6.0\n"
     ]
    }
   ],
   "source": [
    "def three_number_average():\n",
    "\n",
    "    x = int(input(\"Enter first number: \"))\n",
    "    y = int(input(\"Enter second number: \"))\n",
    "    z = int(input(\"Enter third number: \"))\n",
    "\n",
    "    print (\"Average is: \" + str(int(x+y+z)/3))\n",
    "    \n",
    "three_number_average()"
   ]
  }
 ],
 "metadata": {
  "kernelspec": {
   "display_name": "Python 3",
   "language": "python",
   "name": "python3"
  },
  "language_info": {
   "codemirror_mode": {
    "name": "ipython",
    "version": 3
   },
   "file_extension": ".py",
   "mimetype": "text/x-python",
   "name": "python",
   "nbconvert_exporter": "python",
   "pygments_lexer": "ipython3",
   "version": "3.8.8"
  }
 },
 "nbformat": 4,
 "nbformat_minor": 5
}
