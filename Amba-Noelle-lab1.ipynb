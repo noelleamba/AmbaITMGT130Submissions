{
 "cells": [
  {
   "cell_type": "markdown",
   "id": "1f4278ea",
   "metadata": {},
   "source": [
    "#### 170094\n",
    "#### AMBA\n",
    "#### 4 BS COMTECH"
   ]
  },
  {
   "cell_type": "markdown",
   "id": "4e7ca5fe",
   "metadata": {},
   "source": [
    "## PROBLEM 1 "
   ]
  },
  {
   "cell_type": "code",
   "execution_count": 24,
   "id": "df8f2f8c",
   "metadata": {},
   "outputs": [
    {
     "name": "stdout",
     "output_type": "stream",
     "text": [
      "Enter the amount in US Dollars 20\n",
      "20 US Dollar(s) = 1000 Philippine Pesos.\n"
     ]
    }
   ],
   "source": [
    "dollars = int(input(\"Enter the amount in US Dollars \"))\n",
    "peso = dollars*50\n",
    "\n",
    "print(str(dollars)+\" US Dollar(s) = \" + str(peso) + \" Philippine Pesos.\")"
   ]
  },
  {
   "cell_type": "markdown",
   "id": "27dc1fc5",
   "metadata": {},
   "source": [
    "## PROBLEM 2"
   ]
  },
  {
   "cell_type": "code",
   "execution_count": 18,
   "id": "d51a84a4",
   "metadata": {},
   "outputs": [
    {
     "name": "stdout",
     "output_type": "stream",
     "text": [
      "First Number: 55\n",
      "Second Number: 3\n",
      "58\n",
      "52\n",
      "165\n",
      "18\n",
      "1\n"
     ]
    }
   ],
   "source": [
    "a = int(input(\"First Number: \"))\n",
    "b = int(input(\"Second Number: \"))\n",
    "\n",
    "print (str(a+b) + \"\\n\" + str(a-b) + \"\\n\" + str(a*b) + \"\\n\" + str(int(a/b)) + \"\\n\" + str(a%b))"
   ]
  },
  {
   "cell_type": "markdown",
   "id": "ceee70a6",
   "metadata": {},
   "source": [
    "## PROBLEM 3"
   ]
  },
  {
   "cell_type": "code",
   "execution_count": 25,
   "id": "0c0d3bf4",
   "metadata": {},
   "outputs": [
    {
     "name": "stdout",
     "output_type": "stream",
     "text": [
      "Enter kg: 67\n",
      "Enter cm: 178\n",
      "bmi: 21.146319909102385\n"
     ]
    }
   ],
   "source": [
    "kg = int(input(\"Enter kg: \"))\n",
    "cm = int(input(\"Enter cm: \"))\n",
    "\n",
    "convert_cm_to_m = cm*0.01\n",
    "compute_bmi = kg/(convert_cm_to_m*convert_cm_to_m)\n",
    "\n",
    "print(\"bmi: \"+str(compute_bmi))"
   ]
  }
 ],
 "metadata": {
  "kernelspec": {
   "display_name": "Python 3",
   "language": "python",
   "name": "python3"
  },
  "language_info": {
   "codemirror_mode": {
    "name": "ipython",
    "version": 3
   },
   "file_extension": ".py",
   "mimetype": "text/x-python",
   "name": "python",
   "nbconvert_exporter": "python",
   "pygments_lexer": "ipython3",
   "version": "3.8.8"
  }
 },
 "nbformat": 4,
 "nbformat_minor": 5
}
