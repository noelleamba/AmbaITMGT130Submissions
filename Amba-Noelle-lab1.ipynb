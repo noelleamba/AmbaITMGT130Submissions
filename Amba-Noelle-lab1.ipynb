{
 "cells": [
  {
   "cell_type": "markdown",
   "id": "c52e9c2d",
   "metadata": {},
   "source": [
    "#### 170094\n",
    "#### AMBA\n",
    "#### 4 BS COMTECH"
   ]
  },
  {
   "cell_type": "markdown",
   "id": "32f92e5d",
   "metadata": {},
   "source": [
    "## PROBLEM 1 "
   ]
  },
  {
   "cell_type": "code",
   "execution_count": 24,
   "id": "35b0e48c",
   "metadata": {},
   "outputs": [
    {
     "name": "stdout",
     "output_type": "stream",
     "text": [
      "Enter the amount in US Dollars 20\n",
      "20 US Dollar(s) = 1000 Philippine Pesos.\n"
     ]
    }
   ],
   "source": [
    "dollars = int(input(\"Enter the amount in US Dollars \"))\n",
    "peso = dollars*50\n",
    "\n",
    "print(str(dollars)+\" US Dollar(s) = \" + str(peso) + \" Philippine Pesos.\")"
   ]
  },
  {
   "cell_type": "markdown",
   "id": "21b6c8bf",
   "metadata": {},
   "source": [
    "## PROBLEM 2"
   ]
  },
  {
   "cell_type": "code",
   "execution_count": 26,
   "id": "a2e41561",
   "metadata": {},
   "outputs": [
    {
     "name": "stdout",
     "output_type": "stream",
     "text": [
      "First Number: 55\n",
      "Second Number: 3\n",
      "58\n",
      "52\n",
      "165\n",
      "18\n",
      "1\n"
     ]
    }
   ],
   "source": [
    "x = int(input(\"First Number: \"))\n",
    "y = int(input(\"Second Number: \"))\n",
    "\n",
    "print (str(x+y) + \"\\n\" + str(x-y) + \"\\n\" + str(x*y) + \"\\n\" + str(int(x/y)) + \"\\n\" + str(x%y))"
   ]
  },
  {
   "cell_type": "markdown",
   "id": "b72c592b",
   "metadata": {},
   "source": [
    "## PROBLEM 3"
   ]
  },
  {
   "cell_type": "code",
   "execution_count": 27,
   "id": "6a18349b",
   "metadata": {},
   "outputs": [
    {
     "name": "stdout",
     "output_type": "stream",
     "text": [
      "Enter kg: 67\n",
      "Enter cm: 178\n",
      "BMI: 21.146319909102385\n"
     ]
    }
   ],
   "source": [
    "kg = int(input(\"Enter kg: \"))\n",
    "cm = int(input(\"Enter cm: \"))\n",
    "\n",
    "convert_cm_to_m = cm*0.01\n",
    "compute_bmi = kg/(convert_cm_to_m*convert_cm_to_m)\n",
    "\n",
    "print(\"BMI: \"+str(compute_bmi))"
   ]
  }
 ],
 "metadata": {
  "kernelspec": {
   "display_name": "Python 3",
   "language": "python",
   "name": "python3"
  },
  "language_info": {
   "codemirror_mode": {
    "name": "ipython",
    "version": 3
   },
   "file_extension": ".py",
   "mimetype": "text/x-python",
   "name": "python",
   "nbconvert_exporter": "python",
   "pygments_lexer": "ipython3",
   "version": "3.8.8"
  }
 },
 "nbformat": 4,
 "nbformat_minor": 5
}
