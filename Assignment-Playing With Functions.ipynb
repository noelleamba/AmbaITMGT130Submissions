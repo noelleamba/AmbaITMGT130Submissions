{
 "cells": [
  {
   "cell_type": "markdown",
   "id": "eceac94a",
   "metadata": {},
   "source": [
    "## Number 1"
   ]
  },
  {
   "cell_type": "code",
   "execution_count": 125,
   "id": "9e5e4c7c",
   "metadata": {},
   "outputs": [
    {
     "name": "stdout",
     "output_type": "stream",
     "text": [
      "Enter circumference: 89\n"
     ]
    },
    {
     "data": {
      "text/plain": [
       "'Area of cirle: 630.3316781257957'"
      ]
     },
     "execution_count": 125,
     "metadata": {},
     "output_type": "execute_result"
    }
   ],
   "source": [
    "def area(): \n",
    "    pi = 3.1416\n",
    "    c = int(input(\"Enter circumference: \"))\n",
    "    return(\"Area of cirle: \" + str(int(c*c)/(4*pi)))\n",
    "    \n",
    "area()"
   ]
  },
  {
   "cell_type": "markdown",
   "id": "e155f87f",
   "metadata": {},
   "source": [
    "## Number 2"
   ]
  },
  {
   "cell_type": "code",
   "execution_count": 43,
   "id": "fe302290",
   "metadata": {},
   "outputs": [
    {
     "name": "stdout",
     "output_type": "stream",
     "text": [
      "Please type a 5 character string: hello\n"
     ]
    },
    {
     "data": {
      "text/plain": [
       "'olleh'"
      ]
     },
     "execution_count": 43,
     "metadata": {},
     "output_type": "execute_result"
    }
   ],
   "source": [
    "def reverseString(): \n",
    "    text = input(\"Please type a 5 character string: \")\n",
    "\n",
    "    if len(text) == 5:\n",
    "        return text[::-1]\n",
    "    else: \n",
    "        return print(\"Please input a 5 character string only!\")\n",
    "\n",
    "reverseString()"
   ]
  },
  {
   "cell_type": "markdown",
   "id": "e6d32a5a",
   "metadata": {},
   "source": [
    "## Number 3"
   ]
  },
  {
   "cell_type": "code",
   "execution_count": 118,
   "id": "ae79c38b",
   "metadata": {
    "scrolled": true
   },
   "outputs": [
    {
     "name": "stdout",
     "output_type": "stream",
     "text": [
      "Please input a positive integer: 4\n"
     ]
    },
    {
     "data": {
      "text/plain": [
       "10"
      ]
     },
     "execution_count": 118,
     "metadata": {},
     "output_type": "execute_result"
    }
   ],
   "source": [
    "def backAddition():\n",
    "\n",
    "    total = 0 \n",
    "    for i in range(0, int(input(\"Please input a positive integer: \"))+1):\n",
    "        total += i\n",
    "    return (total)\n",
    "    \n",
    "backAddition()"
   ]
  },
  {
   "cell_type": "markdown",
   "id": "b118df5a",
   "metadata": {},
   "source": [
    "## Number 4"
   ]
  },
  {
   "cell_type": "code",
   "execution_count": null,
   "id": "0270e868",
   "metadata": {},
   "outputs": [],
   "source": []
  },
  {
   "cell_type": "markdown",
   "id": "82cc2735",
   "metadata": {},
   "source": [
    "## Number 5"
   ]
  },
  {
   "cell_type": "code",
   "execution_count": 96,
   "id": "952c59f4",
   "metadata": {},
   "outputs": [
    {
     "name": "stdout",
     "output_type": "stream",
     "text": [
      "Please input a positive integer: 69\n",
      "0\n",
      "2\n",
      "1\n",
      "1\n",
      "4\n"
     ]
    }
   ],
   "source": [
    "change = int(float(input(\"Please input a positive integer: \")))\n",
    "\n",
    "P100 = 0\n",
    "P25 = 0 \n",
    "P10 = 0\n",
    "P05 = 0\n",
    "P01 = 0\n",
    "\n",
    "while change >= 100:\n",
    "    change -= 100\n",
    "    P100 += 1\n",
    "    \n",
    "while change >= 25:\n",
    "    change -= 25\n",
    "    P25 += 1\n",
    "    \n",
    "while change >= 10:\n",
    "    change -= 10\n",
    "    P10 += 1\n",
    "    \n",
    "while change >= 5:\n",
    "    change -= 5\n",
    "    P05 += 1\n",
    "    \n",
    "while change >= 1:\n",
    "    change -= 1\n",
    "    P01 += 1\n",
    "\n",
    "print(P100)\n",
    "print(P25)\n",
    "print(P10)\n",
    "print(P05)\n",
    "print(P01)"
   ]
  },
  {
   "cell_type": "markdown",
   "id": "d0b8582b",
   "metadata": {},
   "source": [
    "hi sir don't mind the parts below, these are for personal practice:')"
   ]
  },
  {
   "cell_type": "code",
   "execution_count": 78,
   "id": "a8b56fde",
   "metadata": {},
   "outputs": [
    {
     "name": "stdout",
     "output_type": "stream",
     "text": [
      "x\n",
      "x\n",
      "x\n",
      "x\n",
      "x\n",
      "x\n",
      "x\n",
      "x\n",
      "x\n",
      "x\n"
     ]
    }
   ],
   "source": [
    "counter = 1\n",
    "while counter <= 10:\n",
    "    print ('x')\n",
    "    counter = counter + 1 \n",
    "    "
   ]
  },
  {
   "cell_type": "code",
   "execution_count": 58,
   "id": "46e138da",
   "metadata": {},
   "outputs": [
    {
     "name": "stdout",
     "output_type": "stream",
     "text": [
      "1\n",
      "1\n",
      "2\n",
      "3\n",
      "4\n",
      "5\n"
     ]
    }
   ],
   "source": [
    "i = int(input())\n",
    "while i <= 5:\n",
    "    print (i)\n",
    "    i = i + 1 \n",
    "    "
   ]
  },
  {
   "cell_type": "code",
   "execution_count": 75,
   "id": "260d94b6",
   "metadata": {},
   "outputs": [
    {
     "name": "stdout",
     "output_type": "stream",
     "text": [
      "35\n"
     ]
    }
   ],
   "source": [
    "x = [20, 10, 5] \n",
    "\n",
    "total = 0\n",
    "for e in x:\n",
    "    total = total + e\n",
    "    \n",
    "print (total)"
   ]
  }
 ],
 "metadata": {
  "kernelspec": {
   "display_name": "Python 3",
   "language": "python",
   "name": "python3"
  },
  "language_info": {
   "codemirror_mode": {
    "name": "ipython",
    "version": 3
   },
   "file_extension": ".py",
   "mimetype": "text/x-python",
   "name": "python",
   "nbconvert_exporter": "python",
   "pygments_lexer": "ipython3",
   "version": "3.8.8"
  }
 },
 "nbformat": 4,
 "nbformat_minor": 5
}
